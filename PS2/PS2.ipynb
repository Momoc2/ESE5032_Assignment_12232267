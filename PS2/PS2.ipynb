{
 "cells": [
  {
   "cell_type": "markdown",
   "metadata": {},
   "source": [
    "# HW 2\n",
    "\n",
    "`12232267  蒋夏婷`"
   ]
  },
  {
   "cell_type": "code",
   "execution_count": 2,
   "metadata": {},
   "outputs": [],
   "source": [
    "import pandas as pd\n",
    "import matplotlib.pyplot as plt"
   ]
  },
  {
   "cell_type": "markdown",
   "metadata": {},
   "source": [
    "## 1. Significant earthquakes since 2150 B.C.\n",
    "> The Significant Earthquake Database contains information on destructive earthquakes from 2150 B.C. to the present. On the top left corner, select all columns and download the entire significant earthquake data file in .tsv format by clicking the Download TSV File button. Click the variable name for more information. Read the file (e.g., earthquakes-2022-10-18_09-17-48_+0800.tsv) as an object and name it Sig_Eqs.\n",
    "\n",
    "1.1 [5 points] Compute the total number of deaths caused by earthquakes since 2150 B.C. in each country, and then print the top 20 countries along with the total number of deaths."
   ]
  },
  {
   "cell_type": "code",
   "execution_count": 94,
   "metadata": {},
   "outputs": [
    {
     "name": "stdout",
     "output_type": "stream",
     "text": [
      "The top 20 countries along with the total number of deaths is as follow:\n",
      " Country\n",
      "CHINA           2075019.0\n",
      "TURKEY          1094479.0\n",
      "IRAN             995403.0\n",
      "ITALY            498477.0\n",
      "SYRIA            369224.0\n",
      "HAITI            323474.0\n",
      "AZERBAIJAN       317219.0\n",
      "JAPAN            277142.0\n",
      "ARMENIA          191890.0\n",
      "ISRAEL           160120.0\n",
      "PAKISTAN         145080.0\n",
      "ECUADOR          135479.0\n",
      "IRAQ             120200.0\n",
      "TURKMENISTAN     117412.0\n",
      "PERU             101511.0\n",
      "PORTUGAL          83506.0\n",
      "GREECE            79278.0\n",
      "CHILE             64269.0\n",
      "INDIA             61940.0\n",
      "TAIWAN            57134.0\n",
      "Name: Deaths, dtype: float64\n"
     ]
    }
   ],
   "source": [
    "data1 =pd.read_table('earthquakes-2022-10-20_21-52-40_+0800.tsv')\n",
    "\n",
    "data1[['Country','location']] =data1['Location Name'].str.split(':',n=1, expand=True)\n",
    "total_deaths_city =data1.groupby(['Country']).sum().Deaths\n",
    "print('The top 20 countries along with the total number of deaths is as follow:\\n',total_deaths_city.nlargest( n =20))\n"
   ]
  },
  {
   "cell_type": "markdown",
   "metadata": {},
   "source": [
    "1.2 [10 points] Compute the total number of earthquakes with magnitude larger than 3.0 (use column Ms as the magnitude) worldwide each year, and then plot the time series. Do you observe any trend? Explain why or why not?"
   ]
  },
  {
   "cell_type": "code",
   "execution_count": 95,
   "metadata": {},
   "outputs": [
    {
     "data": {
      "text/plain": [
       "Text(0.5, 0, 'year')"
      ]
     },
     "execution_count": 95,
     "metadata": {},
     "output_type": "execute_result"
    },
    {
     "data": {
      "image/png": "[encoded data removed]",
      "text/plain": [
       "<Figure size 432x288 with 1 Axes>"
      ]
     },
     "metadata": {
      "needs_background": "light"
     },
     "output_type": "display_data"
    }
   ],
   "source": [
    "total_earth_mag30 =data1[data1.Mag >3.0].groupby('Year').count()\n",
    "plt.plot(total_earth_mag30.index,total_earth_mag30['Location Name'])\n",
    "plt.ylabel('total number of earthquakes')\n",
    "plt.xlabel('year')"
   ]
  },
  {
   "cell_type": "markdown",
   "metadata": {},
   "source": [
    "`There is a increasing trend of total number of the earthquakes along time, and shows a sharply upwards in recent years. This may because of the number of evidences the researchers can find, the later the richer`"
   ]
  },
  {
   "cell_type": "markdown",
   "metadata": {},
   "source": [
    "1.3 [10 points] Write a function CountEq_LargestEq that returns (1) the total number of earthquakes since 2150 B.C. in a given country AND (2) date and location of the largest earthquake ever happened in this country. Apply CountEq_LargestEq to every country in the file, report your results in a descending order."
   ]
  },
  {
   "cell_type": "code",
   "execution_count": 108,
   "metadata": {},
   "outputs": [],
   "source": [
    "def CountEq_LargestEq(country,df):\n",
    "    data_country =df.loc[df.Country ==country.upper(),['Year','Mo','Dy','Hr','location','Mag']]\n",
    "    if data_country.Mag.isnull().all():\n",
    "        return len(data_country),'',''\n",
    "    else:\n",
    "        max_ind =data_country.loc[data_country.Mag.idxmax()].fillna('')\n",
    "\n",
    "        total_number_eq = len(data_country) \n",
    "        largest_date =str(max_ind['Year'])+'-'+str(max_ind['Mo'])+'-'\\\n",
    "                        +str(max_ind['Dy'])+'-'+str(max_ind['Hr'])\n",
    "        largest_loca =max_ind['location'].lstrip()\n",
    "\n",
    "        return total_number_eq,largest_date,largest_loca"
   ]
  },
  {
   "cell_type": "code",
   "execution_count": 110,
   "metadata": {},
   "outputs": [
    {
     "name": "stdout",
     "output_type": "stream",
     "text": [
      "7     NaN\n",
      "520   NaN\n",
      "Name: Mag, dtype: float64\n"
     ]
    }
   ],
   "source": [
    "CountEq_LargestEq('china',data1)\n",
    "print(data1.Mag.loc[data1.Country =='SYRIAN COASTS'])"
   ]
  },
  {
   "cell_type": "code",
   "execution_count": 122,
   "metadata": {},
   "outputs": [
    {
     "name": "stdout",
     "output_type": "stream",
     "text": [
      "0                            JORDAN\n",
      "1                  BRITISH COLUMBIA\n",
      "2                             KENYA\n",
      "3                    ISRAEL; JORDAN\n",
      "4                CALIFORNIA, MEXICO\n",
      "                   ...             \n",
      "339                      COSTA RICA\n",
      "340    W. LUZON ISLAND, PHILIPPINES\n",
      "341    E. LUZON ISLAND, PHILIPPINES\n",
      "342                      BANGLADESH\n",
      "343                  NORTH CAROLINA\n",
      "Name: country, Length: 344, dtype: object\n"
     ]
    }
   ],
   "source": [
    "all_country =[]\n",
    "countries =data1.Country.drop_duplicates(keep='first').drop(0,axis=0)\n",
    "for i in countries:\n",
    "    if i == i:\n",
    "        num,date,loca =CountEq_LargestEq(i,data1)\n",
    "        all_country.append([i,data1.Mag.max(),num,date,loca])\n",
    "\n",
    "all_countries =pd.DataFrame(all_country, columns=['country','mag','num','date','loca']).sort_values(by ='mag',ignore_index=True)\n",
    "print(all_countries.country)"
   ]
  },
  {
   "cell_type": "markdown",
   "metadata": {},
   "source": [
    "## 2. Air temperature in Shenzhen during the past 25 years\n",
    "In this problem set, we will examine how air temperature changes in Shenzhen during the past 25 years using the hourly weather data measured at the BaoAn International Airport. The data set is from NOAA Integrated Surface Dataset. Download the file Baoan_Weather_1998_2022.csv, move the .csv file to your working directory.\n",
    "\n",
    "Read page 10-11 (POS 88-92 and POS 93-93) of the comprehensive user guide for the detailed format of the air temperature data (use column TMP). Explain how you filter the data in your report.\n",
    "\n",
    "**[10 points]** Plot monthly averaged air temperature against the observation time. Is there a trend in monthly averaged air temperature in the past 25 years?"
   ]
  },
  {
   "cell_type": "code",
   "execution_count": 123,
   "metadata": {},
   "outputs": [
    {
     "name": "stderr",
     "output_type": "stream",
     "text": [
      "C:\\Users\\XuY\\AppData\\Local\\Temp\\ipykernel_15136\\4071483546.py:1: DtypeWarning: Columns (4,8,9,10,11,14,15,24,25,27,29,31,34,37,38,40,41,45,49,50) have mixed types. Specify dtype option on import or set low_memory=False.\n",
      "  data2 =pd.read_csv('Baoan_Weather_1998_2022.csv')\n"
     ]
    }
   ],
   "source": [
    "data2 =pd.read_csv('Baoan_Weather_1998_2022.csv')"
   ]
  },
  {
   "cell_type": "markdown",
   "metadata": {},
   "source": [
    "## 3. Global collection of hurricanes\n",
    "The International Best Track Archive for Climate Stewardship (IBTrACS) project is the most complete global collection of tropical cyclones available. It merges recent and historical tropical cyclone data from multiple agencies to create a unified, publicly available, best-track dataset that improves inter-agency comparisons. IBTrACS was developed collaboratively with all the World Meteorological Organization (WMO) Regional Specialized Meteorological Centres, as well as other organizations and individuals from around the world.\n",
    "\n",
    "In this problem set, we will use all storms available in the IBTrACS record since 1842. Download the file ibtracs.ALL.list.v04r00.csv, move the .csv file to your working directory. Read Column Variable Descriptions for variables in the file. Examine the first few lines of the file.\n",
    "\n",
    "Below we provide an example to load the file as a pandas dataframe. Think about the options being used and why, and modify when necessary."
   ]
  },
  {
   "cell_type": "markdown",
   "metadata": {},
   "source": [
    "### 3.1 [5 points] Group the data on Storm Identifie (SID), report names (NAME) of the 10 largest hurricanes according to wind speed (WMO_WIND)."
   ]
  },
  {
   "cell_type": "markdown",
   "metadata": {},
   "source": []
  }
 ],
 "metadata": {
  "kernelspec": {
   "display_name": "Python 3.9.12 ('base')",
   "language": "python",
   "name": "python3"
  },
  "language_info": {
   "codemirror_mode": {
    "name": "ipython",
    "version": 3
   },
   "file_extension": ".py",
   "mimetype": "text/x-python",
   "name": "python",
   "nbconvert_exporter": "python",
   "pygments_lexer": "ipython3",
   "version": "3.9.12"
  },
  "orig_nbformat": 4,
  "vscode": {
   "interpreter": {
    "hash": "b758ad733f2cc0b8f36b91456dffcb7b9abf7a51e30f57239990ac97e1b5ed6d"
   }
  }
 },
 "nbformat": 4,
 "nbformat_minor": 2
}
