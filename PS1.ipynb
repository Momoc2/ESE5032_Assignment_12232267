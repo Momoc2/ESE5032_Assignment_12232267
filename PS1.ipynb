{
 "cells": [
  {
   "cell_type": "markdown",
   "metadata": {},
   "source": [
    "# hw1\n"
   ]
  },
  {
   "cell_type": "code",
   "execution_count": 44,
   "metadata": {},
   "outputs": [],
   "source": [
    "import numpy as np\n",
    "from numpy import *\n",
    "import math\n",
    "import random"
   ]
  },
  {
   "cell_type": "markdown",
   "metadata": {},
   "source": [
    "## Q1\n",
    "\n",
    "Write a function `Print_values` with arguments a, b, and c to reflect the following flowchart. Here the purple parallelogram operator on a list [x, y, z] is to compute and print `x+y-10z`. Try your output with some random a, b, and c values. Report your output when a = 10, b = 5, c = 1."
   ]
  },
  {
   "cell_type": "code",
   "execution_count": 45,
   "metadata": {},
   "outputs": [],
   "source": [
    "def Print_values(a,b,c):\n",
    "    temp =[a,b,c]\n",
    "    if a>b:\n",
    "        if b>c:\n",
    "            temp =[a,b,c]\n",
    "        elif a>c:\n",
    "            temp =[a,c,b]\n",
    "        else:\n",
    "            temp =[c,a,b]\n",
    "    elif b>c:\n",
    "        if a>c:\n",
    "            temp =[a,c,b]\n",
    "        else:\n",
    "            temp =[c,a,b]\n",
    "    else:\n",
    "        temp =[c,b,a]\n",
    "\n",
    "    return temp[0]+temp[1]-10*temp[2]\n"
   ]
  },
  {
   "cell_type": "code",
   "execution_count": 47,
   "metadata": {},
   "outputs": [
    {
     "name": "stdout",
     "output_type": "stream",
     "text": [
      "5\n"
     ]
    }
   ],
   "source": [
    "a =int(input(\"input vaulue of a: \"))\n",
    "b =int(input(\"input vaulue of b: \"))\n",
    "c =int(input(\"input vaulue of c: \"))\n",
    "print(Print_values(a,b,c))"
   ]
  },
  {
   "cell_type": "markdown",
   "metadata": {},
   "source": [
    "## Q2\n",
    "\n",
    "Given a list with N positive integers. For every element x of the list, find the value of continuous ceiling function defined as `F(x) = F(ceil(x/3)) + 2x`, where F(1) = 1."
   ]
  },
  {
   "cell_type": "code",
   "execution_count": 5,
   "metadata": {},
   "outputs": [],
   "source": [
    "def celing(x):\n",
    "    if x ==1:\n",
    "        return 1\n",
    "    return celing(math.ceil(x/3))+2*x\n"
   ]
  },
  {
   "cell_type": "code",
   "execution_count": 51,
   "metadata": {},
   "outputs": [
    {
     "name": "stdout",
     "output_type": "stream",
     "text": [
      "[1, 7, 17, 5, 15]\n"
     ]
    }
   ],
   "source": [
    "N =input(\"input a list of positive intergers of x: \").split(',')\n",
    "res =[]\n",
    "for x in N:\n",
    "    if x.isdigit() and int(x)>0:\n",
    "        res.append(celing(int(x)))\n",
    "    else:\n",
    "        print('please input positive intergers')\n",
    "        break\n",
    "\n",
    "print(res)\n"
   ]
  },
  {
   "cell_type": "markdown",
   "metadata": {},
   "source": [
    "## Q3\n",
    "### 3.1\n",
    "Given 10 dice each with 6 faces, numbered from 1 to 6. Write a function `Find_number_of_ways` to find the number of ways to get sum x, defined as the sum of values on each face when all the dice are thrown.\n",
    "\n",
    "> https://www.geeksforgeeks.org/dice-throw-dp-30/\n",
    ">#### eg\n",
    "> **10次**丢出和**15**的次数 = 第**9**次丢出和分别为[9，10，11，12，13，14]的总和，同样的，第**9**次里丢出和**14**的次数 =第**8**次丢出和为[8，9，10，11，12，13]的总和，以此递推"
   ]
  },
  {
   "cell_type": "code",
   "execution_count": 32,
   "metadata": {},
   "outputs": [],
   "source": [
    "def Find_number_of_ways(x):\n",
    "    table=[[0]*(x+1) for i in range(11)]\n",
    "    if x < 10 or x > 60:\n",
    "        return 'please input within right range~'\n",
    "    \n",
    "    for j in range(1,min(7,x+1)):\n",
    "        table[1][j]=1\n",
    "    # print(table)\n",
    "    for i in range(2,11):\n",
    "        for j in range(1,x+1):\n",
    "            for k in range(1,min(7,j)):\n",
    "                table[i][j]+=table[i-1][j-k]\n",
    "\n",
    "    return table[-1][-1]"
   ]
  },
  {
   "cell_type": "code",
   "execution_count": 43,
   "metadata": {},
   "outputs": [
    {
     "name": "stdout",
     "output_type": "stream",
     "text": [
      "10\n"
     ]
    }
   ],
   "source": [
    "X3 =int(input(\"input the sum(range from 10 to 60): \"))\n",
    "print(Find_number_of_ways(X3))"
   ]
  },
  {
   "cell_type": "markdown",
   "metadata": {},
   "source": [
    "### 3.2\n",
    "Count the number of ways for any x from 10 to 60, assign the number of ways to a list called `Number_of_ways`, so which x yields the maximum of `Number_of_ways`?"
   ]
  },
  {
   "cell_type": "code",
   "execution_count": 42,
   "metadata": {},
   "outputs": [
    {
     "name": "stdout",
     "output_type": "stream",
     "text": [
      "The value 26 yields the maximum of Number of ways\n"
     ]
    }
   ],
   "source": [
    "Number_of_ways =[]\n",
    "for i in range(10,61):\n",
    "    Number_of_ways.append(Find_number_of_ways(i))\n",
    "\n",
    "print('The value',Number_of_ways.index(max(Number_of_ways))+1,'yields the maximum of Number of ways')"
   ]
  },
  {
   "cell_type": "markdown",
   "metadata": {},
   "source": [
    "## Q4"
   ]
  },
  {
   "cell_type": "markdown",
   "metadata": {},
   "source": [
    "### 4.1\n",
    "Write a function `Random_integer` to fill an array of N elements by randomly selecting integers from 0 to 10."
   ]
  },
  {
   "cell_type": "code",
   "execution_count": 39,
   "metadata": {},
   "outputs": [
    {
     "name": "stdout",
     "output_type": "stream",
     "text": [
      "[ 1  8 10  2  7]\n"
     ]
    }
   ],
   "source": [
    "def Random_integer(N):\n",
    "    return np.random.randint(11, size =N)\n",
    "\n",
    "print(Random_integer(5))"
   ]
  },
  {
   "cell_type": "markdown",
   "metadata": {},
   "source": [
    "### 4.2\n",
    "Write a function `Sum_averages` to compute the sum of the average of all subsets of the array. For example, given an array of [1, 2, 3], you `Sum_averages` function should compute the sum of: average of [1], average of [2], average of [3], average of [1, 2], average of [1, 3], average of [2, 3], and average of [1, 2, 3].\n"
   ]
  },
  {
   "cell_type": "code",
   "execution_count": 7,
   "metadata": {},
   "outputs": [
    {
     "name": "stdout",
     "output_type": "stream",
     "text": [
      "4.5\n"
     ]
    }
   ],
   "source": [
    "from numpy import *\n",
    "\n",
    "def Sum_averages(nums):\n",
    "    res = [[]]\n",
    "    avg =[]\n",
    "    for i in range(len(nums)):\n",
    "        temp = []\n",
    "        for j in range(len(res)):\n",
    "            temp.append(res[j] + [nums[i]])\n",
    "            avg.append(mean(temp[j]))\n",
    "        res += temp\n",
    "    return sum(avg)\n",
    "\n",
    "print(Sum_averages([1,2]))"
   ]
  },
  {
   "cell_type": "code",
   "execution_count": 87,
   "metadata": {},
   "outputs": [
    {
     "name": "stdout",
     "output_type": "stream",
     "text": [
      "37.5\n"
     ]
    }
   ],
   "source": [
    "nums =list(map(int,input(\"input the list of values: \").split(',')))\n",
    "print(Sum_averages(nums))"
   ]
  },
  {
   "cell_type": "markdown",
   "metadata": {},
   "source": [
    "### 4.3\n",
    "Call `Sum_averages` with N increasing from 1 to 100, assign the output to a list called `Total_sum_averages`. Plot `Total_sum_averages`, describe what do you see."
   ]
  },
  {
   "cell_type": "code",
   "execution_count": 91,
   "metadata": {},
   "outputs": [
    {
     "name": "stdout",
     "output_type": "stream",
     "text": [
      "[1.]\n",
      "[1.0]\n",
      "[1. 2.]\n",
      "[1.0, 4.5]\n",
      "[1. 2. 3.]\n",
      "[1.0, 4.5, 14.0]\n",
      "[1. 2. 3. 4.]\n",
      "[1.0, 4.5, 14.0, 37.5]\n",
      "[1. 2. 3. 4. 5.]\n",
      "[1.0, 4.5, 14.0, 37.5, 93.0]\n",
      "[1. 2. 3. 4. 5. 6.]\n",
      "[1.0, 4.5, 14.0, 37.5, 93.0, 220.5]\n",
      "[1. 2. 3. 4. 5. 6. 7.]\n",
      "[1.0, 4.5, 14.0, 37.5, 93.0, 220.5, 508.00000000000006]\n",
      "[1. 2. 3. 4. 5. 6. 7. 8.]\n",
      "[1.0, 4.5, 14.0, 37.5, 93.0, 220.5, 508.00000000000006, 1147.5]\n",
      "[1. 2. 3. 4. 5. 6. 7. 8. 9.]\n",
      "[1.0, 4.5, 14.0, 37.5, 93.0, 220.5, 508.00000000000006, 1147.5, 2555.0]\n",
      "[ 1.  2.  3.  4.  5.  6.  7.  8.  9. 10.]\n",
      "[1.0, 4.5, 14.0, 37.5, 93.0, 220.5, 508.00000000000006, 1147.5, 2555.0, 5626.5]\n",
      "[ 1.  2.  3.  4.  5.  6.  7.  8.  9. 10. 11.]\n",
      "[1.0, 4.5, 14.0, 37.5, 93.0, 220.5, 508.00000000000006, 1147.5, 2555.0, 5626.5, 12282.0]\n",
      "[ 1.  2.  3.  4.  5.  6.  7.  8.  9. 10. 11. 12.]\n",
      "[1.0, 4.5, 14.0, 37.5, 93.0, 220.5, 508.00000000000006, 1147.5, 2555.0, 5626.5, 12282.0, 26617.5]\n",
      "[ 1.  2.  3.  4.  5.  6.  7.  8.  9. 10. 11. 12. 13.]\n",
      "[1.0, 4.5, 14.0, 37.5, 93.0, 220.5, 508.00000000000006, 1147.5, 2555.0, 5626.5, 12282.0, 26617.5, 57337.00000000001]\n",
      "[ 1.  2.  3.  4.  5.  6.  7.  8.  9. 10. 11. 12. 13. 14.]\n",
      "[1.0, 4.5, 14.0, 37.5, 93.0, 220.5, 508.00000000000006, 1147.5, 2555.0, 5626.5, 12282.0, 26617.5, 57337.00000000001, 122872.5]\n",
      "[ 1.  2.  3.  4.  5.  6.  7.  8.  9. 10. 11. 12. 13. 14. 15.]\n",
      "[1.0, 4.5, 14.0, 37.5, 93.0, 220.5, 508.00000000000006, 1147.5, 2555.0, 5626.5, 12282.0, 26617.5, 57337.00000000001, 122872.5, 262136.0]\n",
      "[ 1.  2.  3.  4.  5.  6.  7.  8.  9. 10. 11. 12. 13. 14. 15. 16.]\n",
      "[1.0, 4.5, 14.0, 37.5, 93.0, 220.5, 508.00000000000006, 1147.5, 2555.0, 5626.5, 12282.0, 26617.5, 57337.00000000001, 122872.5, 262136.0, 557047.5]\n",
      "[ 1.  2.  3.  4.  5.  6.  7.  8.  9. 10. 11. 12. 13. 14. 15. 16. 17.]\n",
      "[1.0, 4.5, 14.0, 37.5, 93.0, 220.5, 508.00000000000006, 1147.5, 2555.0, 5626.5, 12282.0, 26617.5, 57337.00000000001, 122872.5, 262136.0, 557047.5, 1179638.9999999998]\n",
      "[ 1.  2.  3.  4.  5.  6.  7.  8.  9. 10. 11. 12. 13. 14. 15. 16. 17. 18.]\n",
      "[1.0, 4.5, 14.0, 37.5, 93.0, 220.5, 508.00000000000006, 1147.5, 2555.0, 5626.5, 12282.0, 26617.5, 57337.00000000001, 122872.5, 262136.0, 557047.5, 1179638.9999999998, 2490358.499999999]\n",
      "[ 1.  2.  3.  4.  5.  6.  7.  8.  9. 10. 11. 12. 13. 14. 15. 16. 17. 18.\n",
      " 19.]\n",
      "[1.0, 4.5, 14.0, 37.5, 93.0, 220.5, 508.00000000000006, 1147.5, 2555.0, 5626.5, 12282.0, 26617.5, 57337.00000000001, 122872.5, 262136.0, 557047.5, 1179638.9999999998, 2490358.499999999, 5242869.999999999]\n",
      "[ 1.  2.  3.  4.  5.  6.  7.  8.  9. 10. 11. 12. 13. 14. 15. 16. 17. 18.\n",
      " 19. 20.]\n",
      "[1.0, 4.5, 14.0, 37.5, 93.0, 220.5, 508.00000000000006, 1147.5, 2555.0, 5626.5, 12282.0, 26617.5, 57337.00000000001, 122872.5, 262136.0, 557047.5, 1179638.9999999998, 2490358.499999999, 5242869.999999999, 11010037.499999998]\n",
      "[ 1.  2.  3.  4.  5.  6.  7.  8.  9. 10. 11. 12. 13. 14. 15. 16. 17. 18.\n",
      " 19. 20. 21.]\n",
      "[1.0, 4.5, 14.0, 37.5, 93.0, 220.5, 508.00000000000006, 1147.5, 2555.0, 5626.5, 12282.0, 26617.5, 57337.00000000001, 122872.5, 262136.0, 557047.5, 1179638.9999999998, 2490358.499999999, 5242869.999999999, 11010037.499999998, 23068660.99999998]\n",
      "[ 1.  2.  3.  4.  5.  6.  7.  8.  9. 10. 11. 12. 13. 14. 15. 16. 17. 18.\n",
      " 19. 20. 21. 22.]\n",
      "[1.0, 4.5, 14.0, 37.5, 93.0, 220.5, 508.00000000000006, 1147.5, 2555.0, 5626.5, 12282.0, 26617.5, 57337.00000000001, 122872.5, 262136.0, 557047.5, 1179638.9999999998, 2490358.499999999, 5242869.999999999, 11010037.499999998, 23068660.99999998, 48234484.50000002]\n",
      "[ 1.  2.  3.  4.  5.  6.  7.  8.  9. 10. 11. 12. 13. 14. 15. 16. 17. 18.\n",
      " 19. 20. 21. 22. 23.]\n",
      "[1.0, 4.5, 14.0, 37.5, 93.0, 220.5, 508.00000000000006, 1147.5, 2555.0, 5626.5, 12282.0, 26617.5, 57337.00000000001, 122872.5, 262136.0, 557047.5, 1179638.9999999998, 2490358.499999999, 5242869.999999999, 11010037.499999998, 23068660.99999998, 48234484.50000002, 100663284.00000015]\n",
      "[ 1.  2.  3.  4.  5.  6.  7.  8.  9. 10. 11. 12. 13. 14. 15. 16. 17. 18.\n",
      " 19. 20. 21. 22. 23. 24.]\n",
      "[1.0, 4.5, 14.0, 37.5, 93.0, 220.5, 508.00000000000006, 1147.5, 2555.0, 5626.5, 12282.0, 26617.5, 57337.00000000001, 122872.5, 262136.0, 557047.5, 1179638.9999999998, 2490358.499999999, 5242869.999999999, 11010037.499999998, 23068660.99999998, 48234484.50000002, 100663284.00000015, 209715187.50000024]\n",
      "[ 1.  2.  3.  4.  5.  6.  7.  8.  9. 10. 11. 12. 13. 14. 15. 16. 17. 18.\n",
      " 19. 20. 21. 22. 23. 24. 25.]\n"
     ]
    },
    {
     "ename": "KeyboardInterrupt",
     "evalue": "",
     "output_type": "error",
     "traceback": [
      "\u001b[1;31m---------------------------------------------------------------------------\u001b[0m",
      "\u001b[1;31mKeyboardInterrupt\u001b[0m                         Traceback (most recent call last)",
      "\u001b[1;32m~\\AppData\\Local\\Temp/ipykernel_11488/1291954640.py\u001b[0m in \u001b[0;36m<module>\u001b[1;34m\u001b[0m\n\u001b[0;32m      3\u001b[0m     \u001b[0mtemp\u001b[0m \u001b[1;33m=\u001b[0m\u001b[0mnp\u001b[0m\u001b[1;33m.\u001b[0m\u001b[0mlinspace\u001b[0m\u001b[1;33m(\u001b[0m\u001b[1;36m1\u001b[0m\u001b[1;33m,\u001b[0m\u001b[0mi\u001b[0m\u001b[1;33m,\u001b[0m\u001b[0mnum\u001b[0m \u001b[1;33m=\u001b[0m\u001b[0mi\u001b[0m\u001b[1;33m)\u001b[0m\u001b[1;33m\u001b[0m\u001b[1;33m\u001b[0m\u001b[0m\n\u001b[0;32m      4\u001b[0m     \u001b[0mprint\u001b[0m\u001b[1;33m(\u001b[0m\u001b[0mtemp\u001b[0m\u001b[1;33m)\u001b[0m\u001b[1;33m\u001b[0m\u001b[1;33m\u001b[0m\u001b[0m\n\u001b[1;32m----> 5\u001b[1;33m     \u001b[0mTotal_sum_averages\u001b[0m\u001b[1;33m.\u001b[0m\u001b[0mappend\u001b[0m\u001b[1;33m(\u001b[0m\u001b[0mSum_averages\u001b[0m\u001b[1;33m(\u001b[0m\u001b[0mtemp\u001b[0m\u001b[1;33m)\u001b[0m\u001b[1;33m)\u001b[0m\u001b[1;33m\u001b[0m\u001b[1;33m\u001b[0m\u001b[0m\n\u001b[0m\u001b[0;32m      6\u001b[0m     \u001b[0mprint\u001b[0m\u001b[1;33m(\u001b[0m\u001b[0mTotal_sum_averages\u001b[0m\u001b[1;33m)\u001b[0m\u001b[1;33m\u001b[0m\u001b[1;33m\u001b[0m\u001b[0m\n",
      "\u001b[1;32m~\\AppData\\Local\\Temp/ipykernel_11488/3219553545.py\u001b[0m in \u001b[0;36mSum_averages\u001b[1;34m(nums)\u001b[0m\n\u001b[0;32m     10\u001b[0m             \u001b[0mtemp\u001b[0m\u001b[1;33m.\u001b[0m\u001b[0mappend\u001b[0m\u001b[1;33m(\u001b[0m\u001b[0mres\u001b[0m\u001b[1;33m[\u001b[0m\u001b[0mj\u001b[0m\u001b[1;33m]\u001b[0m \u001b[1;33m+\u001b[0m \u001b[1;33m[\u001b[0m\u001b[0mnums\u001b[0m\u001b[1;33m[\u001b[0m\u001b[0mi\u001b[0m\u001b[1;33m]\u001b[0m\u001b[1;33m]\u001b[0m\u001b[1;33m)\u001b[0m\u001b[1;33m\u001b[0m\u001b[1;33m\u001b[0m\u001b[0m\n\u001b[0;32m     11\u001b[0m             \u001b[1;31m# print(i,j,temp,'--',avg)\u001b[0m\u001b[1;33m\u001b[0m\u001b[1;33m\u001b[0m\u001b[0m\n\u001b[1;32m---> 12\u001b[1;33m             \u001b[0mavg\u001b[0m\u001b[1;33m.\u001b[0m\u001b[0mappend\u001b[0m\u001b[1;33m(\u001b[0m\u001b[0mmean\u001b[0m\u001b[1;33m(\u001b[0m\u001b[0mtemp\u001b[0m\u001b[1;33m[\u001b[0m\u001b[0mj\u001b[0m\u001b[1;33m]\u001b[0m\u001b[1;33m)\u001b[0m\u001b[1;33m)\u001b[0m\u001b[1;33m\u001b[0m\u001b[1;33m\u001b[0m\u001b[0m\n\u001b[0m\u001b[0;32m     13\u001b[0m         \u001b[0mres\u001b[0m \u001b[1;33m+=\u001b[0m \u001b[0mtemp\u001b[0m\u001b[1;33m\u001b[0m\u001b[1;33m\u001b[0m\u001b[0m\n\u001b[0;32m     14\u001b[0m     \u001b[1;32mreturn\u001b[0m \u001b[0msum\u001b[0m\u001b[1;33m(\u001b[0m\u001b[0mavg\u001b[0m\u001b[1;33m)\u001b[0m\u001b[1;33m\u001b[0m\u001b[1;33m\u001b[0m\u001b[0m\n",
      "\u001b[1;32m<__array_function__ internals>\u001b[0m in \u001b[0;36mmean\u001b[1;34m(*args, **kwargs)\u001b[0m\n",
      "\u001b[1;32mc:\\ProgramData\\Anaconda3\\lib\\site-packages\\numpy\\core\\fromnumeric.py\u001b[0m in \u001b[0;36mmean\u001b[1;34m(a, axis, dtype, out, keepdims, where)\u001b[0m\n\u001b[0;32m   3417\u001b[0m             \u001b[1;32mreturn\u001b[0m \u001b[0mmean\u001b[0m\u001b[1;33m(\u001b[0m\u001b[0maxis\u001b[0m\u001b[1;33m=\u001b[0m\u001b[0maxis\u001b[0m\u001b[1;33m,\u001b[0m \u001b[0mdtype\u001b[0m\u001b[1;33m=\u001b[0m\u001b[0mdtype\u001b[0m\u001b[1;33m,\u001b[0m \u001b[0mout\u001b[0m\u001b[1;33m=\u001b[0m\u001b[0mout\u001b[0m\u001b[1;33m,\u001b[0m \u001b[1;33m**\u001b[0m\u001b[0mkwargs\u001b[0m\u001b[1;33m)\u001b[0m\u001b[1;33m\u001b[0m\u001b[1;33m\u001b[0m\u001b[0m\n\u001b[0;32m   3418\u001b[0m \u001b[1;33m\u001b[0m\u001b[0m\n\u001b[1;32m-> 3419\u001b[1;33m     return _methods._mean(a, axis=axis, dtype=dtype,\n\u001b[0m\u001b[0;32m   3420\u001b[0m                           out=out, **kwargs)\n\u001b[0;32m   3421\u001b[0m \u001b[1;33m\u001b[0m\u001b[0m\n",
      "\u001b[1;32mc:\\ProgramData\\Anaconda3\\lib\\site-packages\\numpy\\core\\_methods.py\u001b[0m in \u001b[0;36m_mean\u001b[1;34m(a, axis, dtype, out, keepdims, where)\u001b[0m\n\u001b[0;32m    160\u001b[0m \u001b[1;33m\u001b[0m\u001b[0m\n\u001b[0;32m    161\u001b[0m \u001b[1;32mdef\u001b[0m \u001b[0m_mean\u001b[0m\u001b[1;33m(\u001b[0m\u001b[0ma\u001b[0m\u001b[1;33m,\u001b[0m \u001b[0maxis\u001b[0m\u001b[1;33m=\u001b[0m\u001b[1;32mNone\u001b[0m\u001b[1;33m,\u001b[0m \u001b[0mdtype\u001b[0m\u001b[1;33m=\u001b[0m\u001b[1;32mNone\u001b[0m\u001b[1;33m,\u001b[0m \u001b[0mout\u001b[0m\u001b[1;33m=\u001b[0m\u001b[1;32mNone\u001b[0m\u001b[1;33m,\u001b[0m \u001b[0mkeepdims\u001b[0m\u001b[1;33m=\u001b[0m\u001b[1;32mFalse\u001b[0m\u001b[1;33m,\u001b[0m \u001b[1;33m*\u001b[0m\u001b[1;33m,\u001b[0m \u001b[0mwhere\u001b[0m\u001b[1;33m=\u001b[0m\u001b[1;32mTrue\u001b[0m\u001b[1;33m)\u001b[0m\u001b[1;33m:\u001b[0m\u001b[1;33m\u001b[0m\u001b[1;33m\u001b[0m\u001b[0m\n\u001b[1;32m--> 162\u001b[1;33m     \u001b[0marr\u001b[0m \u001b[1;33m=\u001b[0m \u001b[0masanyarray\u001b[0m\u001b[1;33m(\u001b[0m\u001b[0ma\u001b[0m\u001b[1;33m)\u001b[0m\u001b[1;33m\u001b[0m\u001b[1;33m\u001b[0m\u001b[0m\n\u001b[0m\u001b[0;32m    163\u001b[0m \u001b[1;33m\u001b[0m\u001b[0m\n\u001b[0;32m    164\u001b[0m     \u001b[0mis_float16_result\u001b[0m \u001b[1;33m=\u001b[0m \u001b[1;32mFalse\u001b[0m\u001b[1;33m\u001b[0m\u001b[1;33m\u001b[0m\u001b[0m\n",
      "\u001b[1;31mKeyboardInterrupt\u001b[0m: "
     ]
    }
   ],
   "source": [
    "Total_sum_averages =[]\n",
    "for i in range(1,101):\n",
    "    temp =Random_integer(i)\n",
    "    Total_sum_averages.append(Sum_averages(temp))"
   ]
  },
  {
   "cell_type": "code",
   "execution_count": 92,
   "metadata": {},
   "outputs": [
    {
     "ename": "NameError",
     "evalue": "name 'plot' is not defined",
     "output_type": "error",
     "traceback": [
      "\u001b[1;31m---------------------------------------------------------------------------\u001b[0m",
      "\u001b[1;31mNameError\u001b[0m                                 Traceback (most recent call last)",
      "\u001b[1;32m~\\AppData\\Local\\Temp/ipykernel_11488/152242767.py\u001b[0m in \u001b[0;36m<module>\u001b[1;34m\u001b[0m\n\u001b[1;32m----> 1\u001b[1;33m \u001b[0mplot\u001b[0m\u001b[1;33m\u001b[0m\u001b[1;33m\u001b[0m\u001b[0m\n\u001b[0m",
      "\u001b[1;31mNameError\u001b[0m: name 'plot' is not defined"
     ]
    }
   ],
   "source": [
    "   "
   ]
  },
  {
   "cell_type": "code",
   "execution_count": null,
   "metadata": {},
   "outputs": [],
   "source": []
  },
  {
   "cell_type": "markdown",
   "metadata": {},
   "source": [
    "## 5. Path counting"
   ]
  },
  {
   "cell_type": "markdown",
   "metadata": {},
   "source": [
    "### 5.1\n",
    "Create a matrix with N rows and M columns, fill the right-bottom corner and top-left corner cells with 1, and randomly fill the rest of matrix with integer 0 or 1."
   ]
  },
  {
   "cell_type": "code",
   "execution_count": 18,
   "metadata": {},
   "outputs": [],
   "source": [
    "import numpy as np\n",
    "\n",
    "def create_matrix(N,M):\n",
    "    temp =np.random.randint(0,2,(N,M))\n",
    "    temp[0,0] =1\n",
    "    temp[N-1,M-1] =1\n",
    "    return temp"
   ]
  },
  {
   "cell_type": "code",
   "execution_count": 25,
   "metadata": {},
   "outputs": [
    {
     "name": "stdout",
     "output_type": "stream",
     "text": [
      "The new matrix is: \n",
      " [[1 1 0 0 1]\n",
      " [0 0 0 1 1]\n",
      " [0 0 0 0 0]\n",
      " [0 1 1 0 1]]\n"
     ]
    }
   ],
   "source": [
    "mat =list(map(int,input(\"create a matrix with N rows and M columns: \").split(',')))\n",
    "ran_mat =create_matrix(mat[0],mat[1])\n",
    "print(\"The new matrix is: \\n\",ran_mat)"
   ]
  },
  {
   "cell_type": "markdown",
   "metadata": {},
   "source": [
    "### 5.2\n",
    "Consider a cell marked with 0 as a blockage or dead-end, and a cell marked with 1 is good to go. Write a function `Count_path` to count total number of paths to reach the right-bottom corner cell from the top-left corner cell."
   ]
  },
  {
   "cell_type": "code",
   "execution_count": null,
   "metadata": {},
   "outputs": [],
   "source": []
  },
  {
   "cell_type": "markdown",
   "metadata": {},
   "source": [
    "### 5.3\n",
    "Let N = 10, M = 8, run Count_path for 1000 times, each time the matrix (except the right-bottom corner and top-left corner cells, which remain being 1) is re-filled with integer 0 or 1 randomly, report the mean of total number of paths from the 1000 runs."
   ]
  },
  {
   "cell_type": "code",
   "execution_count": null,
   "metadata": {},
   "outputs": [],
   "source": []
  },
  {
   "cell_type": "markdown",
   "metadata": {},
   "source": [
    "## Special statistic"
   ]
  },
  {
   "cell_type": "code",
   "execution_count": 90,
   "metadata": {},
   "outputs": [],
   "source": [
    "def vi_j(V,h):\n",
    "    vi =[]\n",
    "    vj =[]\n",
    "    n =len(V)-h\n",
    "    # print(n)\n",
    "    for i in range(n):\n",
    "        vi.append(V[i])\n",
    "        vj.append(V[i+h])\n",
    "    return vi,vj\n",
    "\n",
    "def m(v,n):\n",
    "    return 1/n*(sum(v))\n",
    "\n",
    "def sigma(v,n):\n",
    "    squr_sum =0\n",
    "    for i in v:\n",
    "        squr_sum += i**2\n",
    "    return 1/n*squr_sum -m(v,n)**2\n",
    "\n",
    "def c(vi,vj,mi,mj,n):\n",
    "    cross_sum =0\n",
    "    for i in range(n):\n",
    "        cross_sum +=vi[i]*vj[i]\n",
    "    return 1/n*cross_sum-mi*mj\n",
    "\n",
    "def rho(c,sigma_i,sigma_j):\n",
    "    if sigma_i !=0. and sigma_j !=0.:\n",
    "        return c/(pow(sigma_i,0.5)*pow(sigma_j,0.5))\n",
    "    else:\n",
    "        return 0\n",
    "\n",
    "def var(vi,vj,n):\n",
    "    diff_sum =0\n",
    "    for i in range(n):\n",
    "        diff_sum +=(vi[i]-vj[i])**2\n",
    "    return 1/(2*n)*diff_sum\n"
   ]
  },
  {
   "cell_type": "code",
   "execution_count": 93,
   "metadata": {},
   "outputs": [],
   "source": [
    "def all(V,h):\n",
    "    n =len(V)-h\n",
    "    print(n)\n",
    "    v_i, v_j =vi_j(V,h)\n",
    "    # print(v_i,'\\n',v_j)\n",
    "    m_i =m(v_i,n)\n",
    "    m_j =m(v_j,n)\n",
    "    # print(m_j)\n",
    "    sigma_i =sigma(v_i,n)\n",
    "    sigma_j =sigma(v_j,n)\n",
    "    # print(sigma_j)\n",
    "    cov =c(v_i,v_j,m_i,m_j,n)\n",
    "    cor =rho(cov,sigma_i,sigma_j)\n",
    "    # print(cor)\n",
    "    vars =var(v_i,v_j,n)\n",
    "    return [m_i,m_j,sigma_i,sigma_j,cov,cor,vars]"
   ]
  },
  {
   "cell_type": "code",
   "execution_count": 99,
   "metadata": {},
   "outputs": [
    {
     "name": "stdout",
     "output_type": "stream",
     "text": [
      "5\n",
      "4\n",
      "3\n",
      "2\n",
      "1\n",
      "h =1:  [4.2, 4.800000000000001, 1.7600000000000016, 2.9599999999999937, 1.4399999999999977, 0.6308996735095028, 1.1] \n",
      " h =2:  [3.75, 5.5, 1.1875, 1.25, 0.625, 0.512989176042577, 2.125] \n",
      " h =3:  [3.333333333333333, 6.0, 0.8888888888888911, 0.6666666666666643, 0.0, 0.0, 4.333333333333333] \n",
      " h =4:  [3.0, 6.5, 1.0, 0.25, -0.5, -1.0, 7.25] \n",
      " h =5:  [4.0, 7.0, 0.0, 0.0, 0.0, 0, 4.5] \n",
      "\n"
     ]
    }
   ],
   "source": [
    "results =[all([4,2,4,5,6,7],1),\n",
    "        all([4,2,4,5,6,7],2),\n",
    "        all([4,2,4,5,6,7],3),\n",
    "        all([4,2,4,5,6,7],4),\n",
    "        all([4,2,4,5,6,7],5)]\n",
    "print('h =1: ',results[0],'\\n',\n",
    "        'h =2: ',results[1],'\\n',\n",
    "        'h =3: ',results[2],'\\n',\n",
    "        'h =4: ',results[3],'\\n',\n",
    "        'h =5: ',results[4],'\\n')"
   ]
  },
  {
   "cell_type": "code",
   "execution_count": 111,
   "metadata": {},
   "outputs": [],
   "source": [
    "covarian =[]\n",
    "correlog =[]\n",
    "variogram =[]\n",
    "for i in (results):\n",
    "    variogram.append(i[6])\n",
    "    covarian.append(i[4])\n",
    "    correlog.append(i[5])\n",
    "\n",
    "h =[5,10,15,20,25]"
   ]
  },
  {
   "cell_type": "code",
   "execution_count": 119,
   "metadata": {},
   "outputs": [
    {
     "data": {
      "text/plain": [
       "Text(0.5, 1.0, 'variogram')"
      ]
     },
     "execution_count": 119,
     "metadata": {},
     "output_type": "execute_result"
    },
    {
     "data": {
      "image/png": "[encoded data removed]",
      "text/plain": [
       "<Figure size 432x288 with 1 Axes>"
      ]
     },
     "metadata": {
      "needs_background": "light"
     },
     "output_type": "display_data"
    }
   ],
   "source": [
    "\n",
    "import matplotlib.pyplot as plt\n",
    "\n",
    "plt.plot(h,variogram)\n",
    "plt.xlabel('h')\n",
    "plt.ylabel('variogram')\n",
    "plt.title('variogram')"
   ]
  },
  {
   "cell_type": "code",
   "execution_count": 120,
   "metadata": {},
   "outputs": [
    {
     "data": {
      "text/plain": [
       "Text(0.5, 1.0, 'covariance')"
      ]
     },
     "execution_count": 120,
     "metadata": {},
     "output_type": "execute_result"
    },
    {
     "data": {
      "image/png": "[encoded data removed]",
      "text/plain": [
       "<Figure size 432x288 with 1 Axes>"
      ]
     },
     "metadata": {
      "needs_background": "light"
     },
     "output_type": "display_data"
    }
   ],
   "source": [
    "plt.plot(h,covarian)\n",
    "plt.xlabel('h')\n",
    "plt.ylabel('covariance')\n",
    "plt.title('covariance')"
   ]
  },
  {
   "cell_type": "markdown",
   "metadata": {},
   "source": []
  },
  {
   "cell_type": "code",
   "execution_count": 121,
   "metadata": {},
   "outputs": [
    {
     "data": {
      "text/plain": [
       "Text(0.5, 1.0, 'correlogram')"
      ]
     },
     "execution_count": 121,
     "metadata": {},
     "output_type": "execute_result"
    },
    {
     "data": {
      "image/png": "[encoded data removed]",
      "text/plain": [
       "<Figure size 432x288 with 1 Axes>"
      ]
     },
     "metadata": {
      "needs_background": "light"
     },
     "output_type": "display_data"
    }
   ],
   "source": [
    "plt.plot(h,correlog)\n",
    "plt.xlabel('h')\n",
    "plt.ylabel('correlogram')\n",
    "plt.title('correlogram')"
   ]
  },
  {
   "cell_type": "code",
   "execution_count": 127,
   "metadata": {},
   "outputs": [
    {
     "name": "stdout",
     "output_type": "stream",
     "text": [
      "0      17.7\n",
      "1      17.8\n",
      "2       9.5\n",
      "3       5.2\n",
      "4       4.1\n",
      "       ... \n",
      "113     3.9\n",
      "114     3.7\n",
      "115    22.5\n",
      "116    27.6\n",
      "117    17.3\n",
      "Name: Z, Length: 118, dtype: float64\n"
     ]
    }
   ],
   "source": [
    "import pandas as pd\n",
    "data =pd.read_excel('I:\\\\jxt_work\\\\02_class\\\\SS\\\\118Z.xls')\n",
    "print(data.Z)"
   ]
  },
  {
   "cell_type": "code",
   "execution_count": 132,
   "metadata": {},
   "outputs": [
    {
     "name": "stdout",
     "output_type": "stream",
     "text": [
      "117\n",
      "116\n",
      "115\n",
      "114\n",
      "113\n",
      "112\n",
      "111\n",
      "110\n",
      "109\n",
      "108\n",
      "[35.33376068376069, 45.616810344827606, 44.97434782608695, 52.19662280701754, 47.3807522123894, 52.29, 56.80157657657658, 54.87963636363636, 58.48087155963302, 62.410925925925895]\n"
     ]
    },
    {
     "data": {
      "text/plain": [
       "Text(0.5, 1.0, 'variogram')"
      ]
     },
     "execution_count": 132,
     "metadata": {},
     "output_type": "execute_result"
    },
    {
     "data": {
      "image/png": "[encoded data removed]",
      "text/plain": [
       "<Figure size 432x288 with 1 Axes>"
      ]
     },
     "metadata": {
      "needs_background": "light"
     },
     "output_type": "display_data"
    }
   ],
   "source": [
    "z_var =[]\n",
    "for i in range(10):\n",
    "    z_var.append(all(data.Z,i+1)[6])\n",
    "print(z_var)\n",
    "\n",
    "plt.plot([2,4,6,8,10,12,14,16,18,20],z_var)\n",
    "plt.xlabel('h')\n",
    "plt.ylabel('variogram')\n",
    "plt.title('variogram')\n"
   ]
  }
 ],
 "metadata": {
  "kernelspec": {
   "display_name": "Python 3.9.12 ('base')",
   "language": "python",
   "name": "python3"
  },
  "language_info": {
   "codemirror_mode": {
    "name": "ipython",
    "version": 3
   },
   "file_extension": ".py",
   "mimetype": "text/x-python",
   "name": "python",
   "nbconvert_exporter": "python",
   "pygments_lexer": "ipython3",
   "version": "3.9.12"
  },
  "orig_nbformat": 4,
  "vscode": {
   "interpreter": {
    "hash": "b758ad733f2cc0b8f36b91456dffcb7b9abf7a51e30f57239990ac97e1b5ed6d"
   }
  }
 },
 "nbformat": 4,
 "nbformat_minor": 2
}
