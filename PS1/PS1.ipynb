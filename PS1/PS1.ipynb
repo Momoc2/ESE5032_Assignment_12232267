{
 "cells": [
  {
   "cell_type": "markdown",
   "metadata": {},
   "source": [
    "# hw1\n"
   ]
  },
  {
   "cell_type": "code",
   "execution_count": 87,
   "metadata": {},
   "outputs": [],
   "source": [
    "import numpy as np\n",
    "from numpy import *\n",
    "import math\n",
    "import random\n",
    "import matplotlib.pyplot as plt"
   ]
  },
  {
   "cell_type": "markdown",
   "metadata": {},
   "source": [
    "## Q1\n",
    "\n",
    "Write a function `Print_values` with arguments a, b, and c to reflect the following flowchart. Here the purple parallelogram operator on a list [x, y, z] is to compute and print `x+y-10z`. Try your output with some random a, b, and c values. Report your output when a = 10, b = 5, c = 1."
   ]
  },
  {
   "cell_type": "code",
   "execution_count": 70,
   "metadata": {},
   "outputs": [],
   "source": [
    "def Print_values(a,b,c):\n",
    "    temp =[a,b,c]\n",
    "    if a>b:\n",
    "        if b>c:\n",
    "            temp =[a,b,c]\n",
    "        elif a>c:\n",
    "            temp =[a,c,b]\n",
    "        else:\n",
    "            temp =[c,a,b]\n",
    "    elif b>c:\n",
    "        if a>c:\n",
    "            temp =[a,c,b]\n",
    "        else:\n",
    "            temp =[c,a,b]\n",
    "    else:\n",
    "        temp =[c,b,a]\n",
    "\n",
    "    return temp[0]+temp[1]-10*temp[2]\n"
   ]
  },
  {
   "cell_type": "code",
   "execution_count": 71,
   "metadata": {},
   "outputs": [
    {
     "name": "stdout",
     "output_type": "stream",
     "text": [
      "5\n"
     ]
    }
   ],
   "source": [
    "a,b,c =10,5,1\n",
    "print(Print_values(a,b,c))"
   ]
  },
  {
   "cell_type": "markdown",
   "metadata": {},
   "source": [
    "## Q2\n",
    "\n",
    "Given a list with N positive integers. For every element x of the list, find the value of continuous ceiling function defined as `F(x) = F(ceil(x/3)) + 2x`, where F(1) = 1."
   ]
  },
  {
   "cell_type": "code",
   "execution_count": 72,
   "metadata": {},
   "outputs": [],
   "source": [
    "def celing(x):\n",
    "    if x ==1:\n",
    "        return 1\n",
    "    return celing(math.ceil(x/3))+2*x\n"
   ]
  },
  {
   "cell_type": "code",
   "execution_count": 75,
   "metadata": {},
   "outputs": [
    {
     "name": "stdout",
     "output_type": "stream",
     "text": [
      "input: ['1', '3', '7', '14', '18', '22', '46', '72', '89'] \n",
      " output: [1, 7, 21, 43, 53, 67, 141, 215, 271]\n"
     ]
    }
   ],
   "source": [
    "N =input(\"input a list of positive intergers of x: \").split(',')\n",
    "res =[]\n",
    "for x in N:\n",
    "    if x.isdigit() and int(x)>0:\n",
    "        res.append(celing(int(x)))\n",
    "    else:\n",
    "        print('please input positive intergers')\n",
    "        break\n",
    "\n",
    "print('input:',N,'\\n','output:',res)\n"
   ]
  },
  {
   "cell_type": "markdown",
   "metadata": {},
   "source": [
    "## Q3\n",
    "### 3.1\n",
    "Given 10 dice each with 6 faces, numbered from 1 to 6. Write a function `Find_number_of_ways` to find the number of ways to get sum x, defined as the sum of values on each face when all the dice are thrown.\n",
    "\n",
    "> https://www.geeksforgeeks.org/dice-throw-dp-30/\n",
    ">#### eg\n",
    "> **10次**丢出和**15**的次数 = 第**9**次丢出和分别为[9，10，11，12，13，14]的总和，同样的，第**9**次里丢出和**14**的次数 =第**8**次丢出和为[8，9，10，11，12，13]的总和，以此递推"
   ]
  },
  {
   "cell_type": "code",
   "execution_count": 76,
   "metadata": {},
   "outputs": [],
   "source": [
    "def Find_number_of_ways(x):\n",
    "    table=[[0]*(x+1) for i in range(11)]\n",
    "    if x < 10 or x > 60:\n",
    "        return 'please input within right range~'\n",
    "    \n",
    "    for j in range(1,min(7,x+1)):\n",
    "        table[1][j]=1\n",
    "    for i in range(2,11):\n",
    "        for j in range(1,x+1):\n",
    "            for k in range(1,min(7,j)):\n",
    "                table[i][j]+=table[i-1][j-k]\n",
    "\n",
    "    return table[-1][-1]"
   ]
  },
  {
   "cell_type": "code",
   "execution_count": 77,
   "metadata": {},
   "outputs": [
    {
     "name": "stdout",
     "output_type": "stream",
     "text": [
      "input: 32 \n",
      " output: 3801535\n"
     ]
    }
   ],
   "source": [
    "X3 =int(input(\"input the sum(range from 10 to 60): \"))\n",
    "print('input:',X3,'\\n','output:',Find_number_of_ways(X3))"
   ]
  },
  {
   "cell_type": "markdown",
   "metadata": {},
   "source": [
    "### 3.2\n",
    "Count the number of ways for any x from 10 to 60, assign the number of ways to a list called `Number_of_ways`, so which x yields the maximum of `Number_of_ways`?"
   ]
  },
  {
   "cell_type": "code",
   "execution_count": 78,
   "metadata": {},
   "outputs": [
    {
     "name": "stdout",
     "output_type": "stream",
     "text": [
      "The value 26 yields the maximum of Number of ways\n"
     ]
    }
   ],
   "source": [
    "Number_of_ways =[]\n",
    "for i in range(10,61):\n",
    "    Number_of_ways.append(Find_number_of_ways(i))\n",
    "\n",
    "print('The value',Number_of_ways.index(max(Number_of_ways))+1,'yields the maximum of Number of ways')"
   ]
  },
  {
   "cell_type": "markdown",
   "metadata": {},
   "source": [
    "## Q4"
   ]
  },
  {
   "cell_type": "markdown",
   "metadata": {},
   "source": [
    "### 4.1\n",
    "Write a function `Random_integer` to fill an array of N elements by randomly selecting integers from 0 to 10."
   ]
  },
  {
   "cell_type": "code",
   "execution_count": 80,
   "metadata": {},
   "outputs": [
    {
     "name": "stdout",
     "output_type": "stream",
     "text": [
      "randomly create a list : [ 6 10  0  7  9]\n"
     ]
    }
   ],
   "source": [
    "def Random_integer(N):\n",
    "    return np.random.randint(11, size =N)\n",
    "\n",
    "print('randomly create a list :',Random_integer(5))"
   ]
  },
  {
   "cell_type": "markdown",
   "metadata": {},
   "source": [
    "### 4.2\n",
    "Write a function `Sum_averages` to compute the sum of the average of all subsets of the array. For example, given an array of [1, 2, 3], you `Sum_averages` function should compute the sum of: average of [1], average of [2], average of [3], average of [1, 2], average of [1, 3], average of [2, 3], and average of [1, 2, 3].\n"
   ]
  },
  {
   "cell_type": "code",
   "execution_count": 81,
   "metadata": {},
   "outputs": [],
   "source": [
    "from numpy import *\n",
    "\n",
    "def Sum_averages(nums):\n",
    "    res = [[]]\n",
    "    avg =[]\n",
    "    for i in range(len(nums)):\n",
    "        temp = []\n",
    "        for j in range(len(res)):\n",
    "            temp.append(res[j] + [nums[i]])\n",
    "            avg.append(mean(temp[j]))\n",
    "        res += temp\n",
    "    return sum(avg)"
   ]
  },
  {
   "cell_type": "code",
   "execution_count": 82,
   "metadata": {},
   "outputs": [
    {
     "name": "stdout",
     "output_type": "stream",
     "text": [
      "input: [1, 2, 3, 4, 5, 6, 7, 8, 9] \n",
      " output: 2555.0\n"
     ]
    }
   ],
   "source": [
    "nums =list(map(int,input(\"input the list of values: \").split(',')))\n",
    "print('input:',nums,'\\n','output:',Sum_averages(nums))"
   ]
  },
  {
   "cell_type": "markdown",
   "metadata": {},
   "source": [
    "### 4.3\n",
    "Call `Sum_averages` with N increasing from 1 to 100, assign the output to a list called `Total_sum_averages`. Plot `Total_sum_averages`, describe what do you see."
   ]
  },
  {
   "cell_type": "code",
   "execution_count": 86,
   "metadata": {},
   "outputs": [
    {
     "name": "stdout",
     "output_type": "stream",
     "text": [
      "the mean of total number of paths from the 20 runs is:\n",
      " 530279.2800440275\n"
     ]
    }
   ],
   "source": [
    "Total_sum_averages =[]\n",
    "for i in range(1,21):\n",
    "    temp =Random_integer(i)\n",
    "    Total_sum_averages.append(Sum_averages(temp))\n",
    "\n",
    "print('the mean of total number of paths from the 20 runs is:\\n',mean(Total_sum_averages))"
   ]
  },
  {
   "cell_type": "code",
   "execution_count": 101,
   "metadata": {},
   "outputs": [
    {
     "data": {
      "text/plain": [
       "Text(0, 0.5, 'total sum averages')"
      ]
     },
     "execution_count": 101,
     "metadata": {},
     "output_type": "execute_result"
    },
    {
     "data": {
      "image/png": "[encoded data removed]",
      "text/plain": [
       "<Figure size 432x288 with 1 Axes>"
      ]
     },
     "metadata": {
      "needs_background": "light"
     },
     "output_type": "display_data"
    }
   ],
   "source": [
    "h =np.linspace(1,21,20)\n",
    "plt.plot(h,Total_sum_averages)\n",
    "plt.ylabel('total sum averages')"
   ]
  },
  {
   "cell_type": "markdown",
   "metadata": {},
   "source": [
    "## 5. Path counting"
   ]
  },
  {
   "cell_type": "markdown",
   "metadata": {},
   "source": [
    "### 5.1\n",
    "Create a matrix with N rows and M columns, fill the right-bottom corner and top-left corner cells with 1, and randomly fill the rest of matrix with integer 0 or 1."
   ]
  },
  {
   "cell_type": "code",
   "execution_count": 102,
   "metadata": {},
   "outputs": [],
   "source": [
    "import numpy as np\n",
    "\n",
    "def create_matrix(N,M):\n",
    "    temp =np.random.randint(0,2,(N,M))\n",
    "    temp[0,0] =1\n",
    "    temp[N-1,M-1] =1\n",
    "    return temp"
   ]
  },
  {
   "cell_type": "code",
   "execution_count": 104,
   "metadata": {},
   "outputs": [
    {
     "name": "stdout",
     "output_type": "stream",
     "text": [
      "The new matrix is: \n",
      " [[1 1 0 ... 0 0 1]\n",
      " [1 0 1 ... 1 0 1]\n",
      " [1 0 1 ... 0 0 1]\n",
      " ...\n",
      " [1 0 1 ... 1 1 0]\n",
      " [0 0 1 ... 1 0 0]\n",
      " [0 0 1 ... 1 1 1]]\n"
     ]
    }
   ],
   "source": [
    "mat =list(map(int,input(\"create a matrix with N rows and M columns: \").split(',')))\n",
    "ran_mat =create_matrix(mat[0],mat[1])\n",
    "print(\"The new matrix is: \\n\",ran_mat)"
   ]
  },
  {
   "cell_type": "markdown",
   "metadata": {},
   "source": [
    "### 5.2\n",
    "Consider a cell marked with 0 as a blockage or dead-end, and a cell marked with 1 is good to go. Write a function `Count_path` to count total number of paths to reach the right-bottom corner cell from the top-left corner cell."
   ]
  },
  {
   "cell_type": "code",
   "execution_count": 106,
   "metadata": {},
   "outputs": [],
   "source": [
    "def Count_path(i,j,row,col,A):\n",
    "    if i ==row or j ==col:\n",
    "        return 0\n",
    "\n",
    "    if A[i][j] ==0:\n",
    "        return 0\n",
    "    \n",
    "    if i ==row-1 and j ==col-1:\n",
    "        return 1\n",
    "\n",
    "    return Count_path(i+1, j, row, col, A)+Count_path(i, j+1,row, col, A)"
   ]
  },
  {
   "cell_type": "markdown",
   "metadata": {},
   "source": [
    "### 5.3\n",
    "Let N = 10, M = 8, run Count_path for 1000 times, each time the matrix (except the right-bottom corner and top-left corner cells, which remain being 1) is re-filled with integer 0 or 1 randomly, report the mean of total number of paths from the 1000 runs."
   ]
  },
  {
   "cell_type": "code",
   "execution_count": 108,
   "metadata": {},
   "outputs": [
    {
     "name": "stdout",
     "output_type": "stream",
     "text": [
      "the mean of total number of paths from the 1000 runs is:  0.3596403596403596\n"
     ]
    }
   ],
   "source": [
    "paths =[]\n",
    "for i in range(1001):\n",
    "    A =create_matrix(10,8)\n",
    "    paths.append(Count_path(0,0,10,8,A))\n",
    "\n",
    "print('the mean of total number of paths from the 1000 runs is: ',mean(paths))\n"
   ]
  }
 ],
 "metadata": {
  "kernelspec": {
   "display_name": "Python 3.9.12 ('base')",
   "language": "python",
   "name": "python3"
  },
  "language_info": {
   "codemirror_mode": {
    "name": "ipython",
    "version": 3
   },
   "file_extension": ".py",
   "mimetype": "text/x-python",
   "name": "python",
   "nbconvert_exporter": "python",
   "pygments_lexer": "ipython3",
   "version": "3.9.12"
  },
  "orig_nbformat": 4,
  "vscode": {
   "interpreter": {
    "hash": "b758ad733f2cc0b8f36b91456dffcb7b9abf7a51e30f57239990ac97e1b5ed6d"
   }
  }
 },
 "nbformat": 4,
 "nbformat_minor": 2
}
